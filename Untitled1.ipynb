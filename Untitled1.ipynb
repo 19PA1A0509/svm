{
  "nbformat": 4,
  "nbformat_minor": 0,
  "metadata": {
    "colab": {
      "name": "Untitled1.ipynb",
      "provenance": [],
      "authorship_tag": "ABX9TyPxmY1TnKTLb+P0uXxFL8qG",
      "include_colab_link": true
    },
    "kernelspec": {
      "name": "python3",
      "display_name": "Python 3"
    }
  },
  "cells": [
    {
      "cell_type": "markdown",
      "metadata": {
        "id": "view-in-github",
        "colab_type": "text"
      },
      "source": [
        "<a href=\"https://colab.research.google.com/github/19PA1A0509/svm/blob/master/Untitled1.ipynb\" target=\"_parent\"><img src=\"https://colab.research.google.com/assets/colab-badge.svg\" alt=\"Open In Colab\"/></a>"
      ]
    },
    {
      "cell_type": "code",
      "metadata": {
        "id": "Xn3HusoO3bok",
        "colab_type": "code",
        "colab": {}
      },
      "source": [
        "#importing our packages\n",
        "import numpy as np\n",
        "import pandas as pd\n",
        "import matplotlib.pyplot as plt\n",
        "import seaborn as sb\n",
        "from sklearn.svm import SVC as svc\n",
        "from sklearn.model_selection import train_test_split as tts\n",
        "from sklearn.metrics import mean_squared_error\n",
        "from sklearn import metrics"
      ],
      "execution_count": 0,
      "outputs": []
    },
    {
      "cell_type": "code",
      "metadata": {
        "id": "Yjk5Dc9V4njN",
        "colab_type": "code",
        "colab": {
          "base_uri": "https://localhost:8080/",
          "height": 419
        },
        "outputId": "17ab623d-b4ff-4ea6-d5d4-d6b9a36da2b9"
      },
      "source": [
        "data = pd.read_csv(\"id.csv\")      #To read the data\n",
        "data"
      ],
      "execution_count": 3,
      "outputs": [
        {
          "output_type": "execute_result",
          "data": {
            "text/html": [
              "<div>\n",
              "<style scoped>\n",
              "    .dataframe tbody tr th:only-of-type {\n",
              "        vertical-align: middle;\n",
              "    }\n",
              "\n",
              "    .dataframe tbody tr th {\n",
              "        vertical-align: top;\n",
              "    }\n",
              "\n",
              "    .dataframe thead th {\n",
              "        text-align: right;\n",
              "    }\n",
              "</style>\n",
              "<table border=\"1\" class=\"dataframe\">\n",
              "  <thead>\n",
              "    <tr style=\"text-align: right;\">\n",
              "      <th></th>\n",
              "      <th>sepal_length</th>\n",
              "      <th>sepal_width</th>\n",
              "      <th>petal_length</th>\n",
              "      <th>petal_width</th>\n",
              "      <th>species</th>\n",
              "    </tr>\n",
              "  </thead>\n",
              "  <tbody>\n",
              "    <tr>\n",
              "      <th>0</th>\n",
              "      <td>5.1</td>\n",
              "      <td>3.5</td>\n",
              "      <td>1.4</td>\n",
              "      <td>0.2</td>\n",
              "      <td>setosa</td>\n",
              "    </tr>\n",
              "    <tr>\n",
              "      <th>1</th>\n",
              "      <td>4.9</td>\n",
              "      <td>3.0</td>\n",
              "      <td>1.4</td>\n",
              "      <td>0.2</td>\n",
              "      <td>setosa</td>\n",
              "    </tr>\n",
              "    <tr>\n",
              "      <th>2</th>\n",
              "      <td>4.7</td>\n",
              "      <td>3.2</td>\n",
              "      <td>1.3</td>\n",
              "      <td>0.2</td>\n",
              "      <td>setosa</td>\n",
              "    </tr>\n",
              "    <tr>\n",
              "      <th>3</th>\n",
              "      <td>4.6</td>\n",
              "      <td>3.1</td>\n",
              "      <td>1.5</td>\n",
              "      <td>0.2</td>\n",
              "      <td>setosa</td>\n",
              "    </tr>\n",
              "    <tr>\n",
              "      <th>4</th>\n",
              "      <td>5.0</td>\n",
              "      <td>3.6</td>\n",
              "      <td>1.4</td>\n",
              "      <td>0.2</td>\n",
              "      <td>setosa</td>\n",
              "    </tr>\n",
              "    <tr>\n",
              "      <th>...</th>\n",
              "      <td>...</td>\n",
              "      <td>...</td>\n",
              "      <td>...</td>\n",
              "      <td>...</td>\n",
              "      <td>...</td>\n",
              "    </tr>\n",
              "    <tr>\n",
              "      <th>145</th>\n",
              "      <td>6.7</td>\n",
              "      <td>3.0</td>\n",
              "      <td>5.2</td>\n",
              "      <td>2.3</td>\n",
              "      <td>virginica</td>\n",
              "    </tr>\n",
              "    <tr>\n",
              "      <th>146</th>\n",
              "      <td>6.3</td>\n",
              "      <td>2.5</td>\n",
              "      <td>5.0</td>\n",
              "      <td>1.9</td>\n",
              "      <td>virginica</td>\n",
              "    </tr>\n",
              "    <tr>\n",
              "      <th>147</th>\n",
              "      <td>6.5</td>\n",
              "      <td>3.0</td>\n",
              "      <td>5.2</td>\n",
              "      <td>2.0</td>\n",
              "      <td>virginica</td>\n",
              "    </tr>\n",
              "    <tr>\n",
              "      <th>148</th>\n",
              "      <td>6.2</td>\n",
              "      <td>3.4</td>\n",
              "      <td>5.4</td>\n",
              "      <td>2.3</td>\n",
              "      <td>virginica</td>\n",
              "    </tr>\n",
              "    <tr>\n",
              "      <th>149</th>\n",
              "      <td>5.9</td>\n",
              "      <td>3.0</td>\n",
              "      <td>5.1</td>\n",
              "      <td>1.8</td>\n",
              "      <td>virginica</td>\n",
              "    </tr>\n",
              "  </tbody>\n",
              "</table>\n",
              "<p>150 rows × 5 columns</p>\n",
              "</div>"
            ],
            "text/plain": [
              "     sepal_length  sepal_width  petal_length  petal_width    species\n",
              "0             5.1          3.5           1.4          0.2     setosa\n",
              "1             4.9          3.0           1.4          0.2     setosa\n",
              "2             4.7          3.2           1.3          0.2     setosa\n",
              "3             4.6          3.1           1.5          0.2     setosa\n",
              "4             5.0          3.6           1.4          0.2     setosa\n",
              "..            ...          ...           ...          ...        ...\n",
              "145           6.7          3.0           5.2          2.3  virginica\n",
              "146           6.3          2.5           5.0          1.9  virginica\n",
              "147           6.5          3.0           5.2          2.0  virginica\n",
              "148           6.2          3.4           5.4          2.3  virginica\n",
              "149           5.9          3.0           5.1          1.8  virginica\n",
              "\n",
              "[150 rows x 5 columns]"
            ]
          },
          "metadata": {
            "tags": []
          },
          "execution_count": 3
        }
      ]
    },
    {
      "cell_type": "code",
      "metadata": {
        "id": "cNVCTsnX44Xs",
        "colab_type": "code",
        "colab": {
          "base_uri": "https://localhost:8080/",
          "height": 119
        },
        "outputId": "2e19534c-c754-4c28-bdb5-5b4304acf8ee"
      },
      "source": [
        "data.isna().any()       #checking if there are any na's in the dataset"
      ],
      "execution_count": 4,
      "outputs": [
        {
          "output_type": "execute_result",
          "data": {
            "text/plain": [
              "sepal_length    False\n",
              "sepal_width     False\n",
              "petal_length    False\n",
              "petal_width     False\n",
              "species         False\n",
              "dtype: bool"
            ]
          },
          "metadata": {
            "tags": []
          },
          "execution_count": 4
        }
      ]
    },
    {
      "cell_type": "code",
      "metadata": {
        "id": "U4X2UzXx5HNv",
        "colab_type": "code",
        "colab": {}
      },
      "source": [
        "x = data[[\"sepal_length\",\"sepal_width\",\"petal_length\",\"petal_width\"]]   #Giving the first four columns as features \n",
        "y = data[[\"species\"]]                                                   #Giving the last as label"
      ],
      "execution_count": 0,
      "outputs": []
    },
    {
      "cell_type": "code",
      "metadata": {
        "id": "nGGVqg_h5pXp",
        "colab_type": "code",
        "colab": {
          "base_uri": "https://localhost:8080/",
          "height": 1000
        },
        "outputId": "a219428a-e944-42ad-9305-de3308711dfc"
      },
      "source": [
        "x_train, x_test, y_train, y_test = tts(x, y, test_size = 0.2, random_state = 42)    #random_state = 42 and test_size = 0.2\n",
        "x_train, x_test, y_train, y_test"
      ],
      "execution_count": 11,
      "outputs": [
        {
          "output_type": "execute_result",
          "data": {
            "text/plain": [
              "(     sepal_length  sepal_width  petal_length  petal_width\n",
              " 22            4.6          3.6           1.0          0.2\n",
              " 15            5.7          4.4           1.5          0.4\n",
              " 65            6.7          3.1           4.4          1.4\n",
              " 11            4.8          3.4           1.6          0.2\n",
              " 42            4.4          3.2           1.3          0.2\n",
              " ..            ...          ...           ...          ...\n",
              " 71            6.1          2.8           4.0          1.3\n",
              " 106           4.9          2.5           4.5          1.7\n",
              " 14            5.8          4.0           1.2          0.2\n",
              " 92            5.8          2.6           4.0          1.2\n",
              " 102           7.1          3.0           5.9          2.1\n",
              " \n",
              " [120 rows x 4 columns],\n",
              "      sepal_length  sepal_width  petal_length  petal_width\n",
              " 73            6.1          2.8           4.7          1.2\n",
              " 18            5.7          3.8           1.7          0.3\n",
              " 118           7.7          2.6           6.9          2.3\n",
              " 78            6.0          2.9           4.5          1.5\n",
              " 76            6.8          2.8           4.8          1.4\n",
              " 31            5.4          3.4           1.5          0.4\n",
              " 64            5.6          2.9           3.6          1.3\n",
              " 141           6.9          3.1           5.1          2.3\n",
              " 68            6.2          2.2           4.5          1.5\n",
              " 82            5.8          2.7           3.9          1.2\n",
              " 110           6.5          3.2           5.1          2.0\n",
              " 12            4.8          3.0           1.4          0.1\n",
              " 36            5.5          3.5           1.3          0.2\n",
              " 9             4.9          3.1           1.5          0.1\n",
              " 19            5.1          3.8           1.5          0.3\n",
              " 56            6.3          3.3           4.7          1.6\n",
              " 104           6.5          3.0           5.8          2.2\n",
              " 69            5.6          2.5           3.9          1.1\n",
              " 55            5.7          2.8           4.5          1.3\n",
              " 132           6.4          2.8           5.6          2.2\n",
              " 29            4.7          3.2           1.6          0.2\n",
              " 127           6.1          3.0           4.9          1.8\n",
              " 26            5.0          3.4           1.6          0.4\n",
              " 128           6.4          2.8           5.6          2.1\n",
              " 131           7.9          3.8           6.4          2.0\n",
              " 145           6.7          3.0           5.2          2.3\n",
              " 108           6.7          2.5           5.8          1.8\n",
              " 143           6.8          3.2           5.9          2.3\n",
              " 45            4.8          3.0           1.4          0.3\n",
              " 30            4.8          3.1           1.6          0.2,\n",
              "         species\n",
              " 22       setosa\n",
              " 15       setosa\n",
              " 65   versicolor\n",
              " 11       setosa\n",
              " 42       setosa\n",
              " ..          ...\n",
              " 71   versicolor\n",
              " 106   virginica\n",
              " 14       setosa\n",
              " 92   versicolor\n",
              " 102   virginica\n",
              " \n",
              " [120 rows x 1 columns],\n",
              "         species\n",
              " 73   versicolor\n",
              " 18       setosa\n",
              " 118   virginica\n",
              " 78   versicolor\n",
              " 76   versicolor\n",
              " 31       setosa\n",
              " 64   versicolor\n",
              " 141   virginica\n",
              " 68   versicolor\n",
              " 82   versicolor\n",
              " 110   virginica\n",
              " 12       setosa\n",
              " 36       setosa\n",
              " 9        setosa\n",
              " 19       setosa\n",
              " 56   versicolor\n",
              " 104   virginica\n",
              " 69   versicolor\n",
              " 55   versicolor\n",
              " 132   virginica\n",
              " 29       setosa\n",
              " 127   virginica\n",
              " 26       setosa\n",
              " 128   virginica\n",
              " 131   virginica\n",
              " 145   virginica\n",
              " 108   virginica\n",
              " 143   virginica\n",
              " 45       setosa\n",
              " 30       setosa)"
            ]
          },
          "metadata": {
            "tags": []
          },
          "execution_count": 11
        }
      ]
    },
    {
      "cell_type": "code",
      "metadata": {
        "id": "rHHiRKRM6dFw",
        "colab_type": "code",
        "colab": {
          "base_uri": "https://localhost:8080/",
          "height": 139
        },
        "outputId": "349c4416-8847-4947-ac8b-a7ffe2666eef"
      },
      "source": [
        "svrm = svc()    #svrm is Support Vector Regressor Model\n",
        "svrm.fit(x_train, y_train)"
      ],
      "execution_count": 12,
      "outputs": [
        {
          "output_type": "stream",
          "text": [
            "/usr/local/lib/python3.6/dist-packages/sklearn/utils/validation.py:760: DataConversionWarning: A column-vector y was passed when a 1d array was expected. Please change the shape of y to (n_samples, ), for example using ravel().\n",
            "  y = column_or_1d(y, warn=True)\n"
          ],
          "name": "stderr"
        },
        {
          "output_type": "execute_result",
          "data": {
            "text/plain": [
              "SVC(C=1.0, break_ties=False, cache_size=200, class_weight=None, coef0=0.0,\n",
              "    decision_function_shape='ovr', degree=3, gamma='scale', kernel='rbf',\n",
              "    max_iter=-1, probability=False, random_state=None, shrinking=True,\n",
              "    tol=0.001, verbose=False)"
            ]
          },
          "metadata": {
            "tags": []
          },
          "execution_count": 12
        }
      ]
    },
    {
      "cell_type": "code",
      "metadata": {
        "id": "PyoGoZfc6i9n",
        "colab_type": "code",
        "colab": {
          "base_uri": "https://localhost:8080/",
          "height": 119
        },
        "outputId": "09b274d7-e8ea-40d4-ff8c-891321bc9157"
      },
      "source": [
        "y_pred = svrm.predict(x_test)          #predicting the x_test data\n",
        "y_pred"
      ],
      "execution_count": 13,
      "outputs": [
        {
          "output_type": "execute_result",
          "data": {
            "text/plain": [
              "array(['versicolor', 'setosa', 'virginica', 'versicolor', 'versicolor',\n",
              "       'setosa', 'versicolor', 'virginica', 'versicolor', 'versicolor',\n",
              "       'virginica', 'setosa', 'setosa', 'setosa', 'setosa', 'versicolor',\n",
              "       'virginica', 'versicolor', 'versicolor', 'virginica', 'setosa',\n",
              "       'virginica', 'setosa', 'virginica', 'virginica', 'virginica',\n",
              "       'virginica', 'virginica', 'setosa', 'setosa'], dtype=object)"
            ]
          },
          "metadata": {
            "tags": []
          },
          "execution_count": 13
        }
      ]
    },
    {
      "cell_type": "code",
      "metadata": {
        "id": "7HoWv4YW6rCc",
        "colab_type": "code",
        "colab": {
          "base_uri": "https://localhost:8080/",
          "height": 68
        },
        "outputId": "152d789f-d5fe-4540-d4d0-4e29e218581c"
      },
      "source": [
        "metrics.confusion_matrix(y_test,y_pred)        #making the confusion matrix"
      ],
      "execution_count": 14,
      "outputs": [
        {
          "output_type": "execute_result",
          "data": {
            "text/plain": [
              "array([[10,  0,  0],\n",
              "       [ 0,  9,  0],\n",
              "       [ 0,  0, 11]])"
            ]
          },
          "metadata": {
            "tags": []
          },
          "execution_count": 14
        }
      ]
    },
    {
      "cell_type": "markdown",
      "metadata": {
        "id": "N7Xajrn1-UQb",
        "colab_type": "text"
      },
      "source": [
        "In the value of correct predictions to the total predictions,the fraction value is accuracy."
      ]
    },
    {
      "cell_type": "code",
      "metadata": {
        "id": "KtjksG1Q6wzu",
        "colab_type": "code",
        "colab": {
          "base_uri": "https://localhost:8080/",
          "height": 34
        },
        "outputId": "38f91c41-b0ef-4b89-d17d-ae25bb3b7b72"
      },
      "source": [
        "metrics.accuracy_score(y_test,y_pred)     #Finding out accuracy"
      ],
      "execution_count": 17,
      "outputs": [
        {
          "output_type": "stream",
          "text": [
            "0.9583333333333334\n"
          ],
          "name": "stdout"
        }
      ]
    },
    {
      "cell_type": "markdown",
      "metadata": {
        "id": "-L0w7Hzx-1Dv",
        "colab_type": "text"
      },
      "source": [
        "Precision is defined as the number of true positives over the number of true positives plus the number of false positives"
      ]
    },
    {
      "cell_type": "code",
      "metadata": {
        "id": "zuaYOprC63Oa",
        "colab_type": "code",
        "colab": {
          "base_uri": "https://localhost:8080/",
          "height": 34
        },
        "outputId": "538a56ba-7925-4e79-d45a-713d7dd4af12"
      },
      "source": [
        "metrics.precision_score(y_test,y_pred, average = 'weighted')      #finding the precission "
      ],
      "execution_count": 18,
      "outputs": [
        {
          "output_type": "stream",
          "text": [
            "0.9618055555555555\n"
          ],
          "name": "stdout"
        }
      ]
    }
  ]
}